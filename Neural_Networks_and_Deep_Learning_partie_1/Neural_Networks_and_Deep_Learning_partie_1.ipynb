{
 "cells": [
  {
   "cell_type": "code",
   "execution_count": null,
   "metadata": {},
   "outputs": [],
   "source": [
    "# Cours n° 1 : semaine 1"
   ]
  },
  {
   "cell_type": "markdown",
   "metadata": {},
   "source": [
    "# Neural Networks and Deep Learning"
   ]
  },
  {
   "cell_type": "markdown",
   "metadata": {},
   "source": [
    "Le but d’un réseau de neurones est de réaliser des prédictions.<br>\n",
    "Le cas d’une régression linéaire, par exemple prédire le prix d’une maison en fonction de sa superficie peut être réalisé en utilisant un réseau de neurones avec une seule couche de sortie à un neurone."
   ]
  },
  {
   "cell_type": "markdown",
   "metadata": {},
   "source": [
    "Le réseau peut se représenter de la forme :<br>"
   ]
  },
  {
   "cell_type": "markdown",
   "metadata": {},
   "source": [
    "<img src=\"images/prediction_prix_maison.png\" style=\"width:1920px;height:1080px;\">\n",
    "<caption><center> <u> **Figure 1** </u>: **neural network as regression**<br> </center></caption>"
   ]
  },
  {
   "cell_type": "markdown",
   "metadata": {},
   "source": [
    "La relation entre les variables surface de la maison et le prix de la maison se modélisent de la forme :Y = aX + b"
   ]
  },
  {
   "cell_type": "markdown",
   "metadata": {},
   "source": [
    "On peut tenir compte du fait que le prix est toujours positif, en utilisant la fonction Relu (Rectified Linear Unit) pour ce cas de régression linéaire. "
   ]
  },
  {
   "cell_type": "markdown",
   "metadata": {},
   "source": [
    "<img src=\"images/relu_function.png\" style=\"width:1920px;height:1080px;\">\n",
    "<caption><center> <u> **Figure 2** </u>: **nuage de points et fonction Relu**<br> </center></caption>"
   ]
  },
  {
   "cell_type": "markdown",
   "metadata": {},
   "source": [
    "Les réseaux de neurones font partie des méthodes d’apprentissage supervisé.\n",
    "\n",
    "Ils peuvent être appliqués dans différents domaines :\n",
    "- la publicité sur internet, en utilisant les informations sur des utilisateurs, on peut prédire si un utilisateur va avoir des chances de cliquer sur une publicité.\n",
    "- Computer vision : en vue de tagger une photo\n",
    "- Audio : extraire un texte à partir d’un enregistrement audio, en vue de reconnaître un discours.\n",
    "- Traduction automatique de textes, par exemple d’anglais à chinois\n",
    "- Voitures et véhicules autonomes : à partir d’images et d’informations « radar », obtenir en sortie la position d’autres véhicules"
   ]
  },
  {
   "cell_type": "markdown",
   "metadata": {},
   "source": [
    "Dans le domaine des techniques de Deep learning, des réseaux de neurones « standard » ou     \n",
    "de type CNN (Convolutional Neural Networks) peuvent être utilisés pour le photo tagging.\n",
    "\n",
    "Des réseaux de type RNN (Recursive Neural Networks) utilisant l’aspect séquentiel des données (composantes temporelles) peuvent être utilisés pour ce qu’on appelle la « speech recognition » et également pour la traduction automatique de textes.\n",
    "Une architecture customisée et hybride est adaptée pour les problématiques de véhicules autonomes."
   ]
  },
  {
   "cell_type": "markdown",
   "metadata": {},
   "source": [
    "<img src=\"images/different_types_of_NN.png\" style=\"width:1920px;height 1080px;\">\n",
    "<caption><center> <u> **Figure 3** </u>: **différents types de NN (classique, CNN et RNN)**<br> </center></caption>"
   ]
  },
  {
   "cell_type": "markdown",
   "metadata": {},
   "source": [
    "Pourquoi le Deep learning est-il en train de prendre autant d’ampleur ?<br>\n",
    "\n",
    "Les quantités de données ont explosées ces dernières années, ce qui permet un gain énorme pour la précision des modèles NN. Ci-dessous un aperçu sous forme de graphique du gain de performance de ces modèles :\n"
   ]
  },
  {
   "cell_type": "code",
   "execution_count": null,
   "metadata": {},
   "outputs": [],
   "source": [
    "<img src=\"images/gain_performance_des_modèles.png\" style=\"width:1920px;height:1080px;\">\n",
    "<caption><center> <u> **Figure 4** </u>: **gain de performance des modèles**<br> </center></caption>"
   ]
  },
  {
   "cell_type": "markdown",
   "metadata": {},
   "source": [
    "Un réseau de neurones possédant un grand nombre de couches cachées et un grand nombre de neurones par couche appliqué à de grandes quantités de données labellisées permet d’obtenir un modèle très précis.\n",
    "\n",
    "Néanmoins, il faut rappeler qu’un modèle de type apprentissage traditionnel (SVM, régression logistique, …) utilisant une quantité de données relativement petite avec des bonnes « features », est en général un assez bon modèle (d’où l’apport du « features engineering »)."
   ]
  },
  {
   "cell_type": "markdown",
   "metadata": {},
   "source": [
    "Les performances des modèles dépendent :\n",
    "- de la spécificité des données\n",
    "- des moyens de calculs  de type CPU ou GPU\n",
    "- des algorithmes\n",
    "\n",
    "Les algorithmes associés aux moyens de calculs contribuent ainsi fortement à une amélioration des performance en calculs.\n",
    "\n",
    "On peut aussi noter l’efficacité de certaines fonctions d’activation plus efficaces selon les usages que d’autres. Notamment la fonction RELU (Rectified Linear Unit) est particulièrement adaptée pour rendre l’algorithme du « gradient descent » plus performant. Contrairement à la fonction classique « sigmoïde » qui change les paramètres du gradient descent de manière très lente."
   ]
  },
  {
   "cell_type": "markdown",
   "metadata": {},
   "source": [
    "Geoffrey Hinton’s interview :\n",
    "Geoffrey Hinton a beaucoup travaillé sur des modèles n’utilisant qu’une seule couche de features avec les « boltzmann machines » et les « restricted boltzmann machines ».\n",
    "Selon lui, beaucoup de personnes utilisent RELU au lieu des « logistic units » utilisées à la base pour les « restricted boltzmann machines ».\n",
    "D’autres travaux de recherches abordés par Hinton sont l’équivalent de l ‘algorithme purement orienté « statistiques » Approximate EM, fait avec des réseaux de neurones. Ainsi que la piste des « auto-encoders » sans utiliser « backpropagation » en vue d’imiter le cerveau humain. Hinton cite aussi « true  recursion » mis en place en 1973 et qui fait encore l’objet de recherches en 2018 ! Selon Hinton le supervisé a très bien marché mais le non supervisé fait l’objet de recherches et représente encore un challenge ! Il pense que l’utilisation de « adversarial nets » est pertinent pour les problèmes non supervisés. De même les utilisations des concepts « slow features » et « sparsity » sont intéressants pour pour les problèmes non supervisés. \n",
    "Enfin, il cite l’utilisation des « symbolic expressions » pour le futur du Deep learning."
   ]
  }
 ],
 "metadata": {
  "kernelspec": {
   "display_name": "Python 3",
   "language": "python",
   "name": "python3"
  },
  "language_info": {
   "codemirror_mode": {
    "name": "ipython",
    "version": 3
   },
   "file_extension": ".py",
   "mimetype": "text/x-python",
   "name": "python",
   "nbconvert_exporter": "python",
   "pygments_lexer": "ipython3",
   "version": "3.7.0"
  },
  "toc": {
   "nav_menu": {},
   "number_sections": true,
   "sideBar": true,
   "skip_h1_title": false,
   "toc_cell": false,
   "toc_position": {},
   "toc_section_display": "block",
   "toc_window_display": false
  },
  "varInspector": {
   "cols": {
    "lenName": 16,
    "lenType": 16,
    "lenVar": 40
   },
   "kernels_config": {
    "python": {
     "delete_cmd_postfix": "",
     "delete_cmd_prefix": "del ",
     "library": "var_list.py",
     "varRefreshCmd": "print(var_dic_list())"
    },
    "r": {
     "delete_cmd_postfix": ") ",
     "delete_cmd_prefix": "rm(",
     "library": "var_list.r",
     "varRefreshCmd": "cat(var_dic_list()) "
    }
   },
   "types_to_exclude": [
    "module",
    "function",
    "builtin_function_or_method",
    "instance",
    "_Feature"
   ],
   "window_display": false
  }
 },
 "nbformat": 4,
 "nbformat_minor": 2
}
